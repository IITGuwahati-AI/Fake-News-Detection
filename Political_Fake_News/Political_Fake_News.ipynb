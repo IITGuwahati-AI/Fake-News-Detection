{
  "nbformat": 4,
  "nbformat_minor": 0,
  "metadata": {
    "colab": {
      "name": "Political Fake News.ipynb",
      "provenance": [],
      "collapsed_sections": [],
      "mount_file_id": "1DmPWC-8uNK1ibct71fP61lB33WpSrpxN",
      "authorship_tag": "ABX9TyNGOulKxBBT/Ni6NfPXir1i",
      "include_colab_link": true
    },
    "kernelspec": {
      "name": "python3",
      "display_name": "Python 3"
    },
    "accelerator": "GPU",
    "widgets": {
      "application/vnd.jupyter.widget-state+json": {
        "8fb97266fa8b4687a59caf783d5336ac": {
          "model_module": "@jupyter-widgets/controls",
          "model_name": "ButtonModel",
          "state": {
            "_view_name": "ButtonView",
            "style": "IPY_MODEL_5727d2d4af66401eaff4d6d2673eedab",
            "_dom_classes": [],
            "description": "Enter",
            "_model_name": "ButtonModel",
            "button_style": "",
            "_view_module": "@jupyter-widgets/controls",
            "_model_module_version": "1.5.0",
            "tooltip": "",
            "_view_count": null,
            "disabled": false,
            "_view_module_version": "1.5.0",
            "layout": "IPY_MODEL_2e86d4c2627c46d0ba9056cfc6b22f0c",
            "_model_module": "@jupyter-widgets/controls",
            "icon": ""
          }
        },
        "5727d2d4af66401eaff4d6d2673eedab": {
          "model_module": "@jupyter-widgets/controls",
          "model_name": "ButtonStyleModel",
          "state": {
            "_view_name": "StyleView",
            "_model_name": "ButtonStyleModel",
            "_view_module": "@jupyter-widgets/base",
            "_model_module_version": "1.5.0",
            "_view_count": null,
            "button_color": null,
            "font_weight": "",
            "_view_module_version": "1.2.0",
            "_model_module": "@jupyter-widgets/controls"
          }
        },
        "2e86d4c2627c46d0ba9056cfc6b22f0c": {
          "model_module": "@jupyter-widgets/base",
          "model_name": "LayoutModel",
          "state": {
            "_view_name": "LayoutView",
            "grid_template_rows": null,
            "right": null,
            "justify_content": null,
            "_view_module": "@jupyter-widgets/base",
            "overflow": null,
            "_model_module_version": "1.2.0",
            "_view_count": null,
            "flex_flow": null,
            "width": null,
            "min_width": null,
            "border": null,
            "align_items": null,
            "bottom": null,
            "_model_module": "@jupyter-widgets/base",
            "top": null,
            "grid_column": null,
            "overflow_y": null,
            "overflow_x": null,
            "grid_auto_flow": null,
            "grid_area": null,
            "grid_template_columns": null,
            "flex": null,
            "_model_name": "LayoutModel",
            "justify_items": null,
            "grid_row": null,
            "max_height": null,
            "align_content": null,
            "visibility": null,
            "align_self": null,
            "height": null,
            "min_height": null,
            "padding": null,
            "grid_auto_rows": null,
            "grid_gap": null,
            "max_width": null,
            "order": null,
            "_view_module_version": "1.2.0",
            "grid_template_areas": null,
            "object_position": null,
            "object_fit": null,
            "grid_auto_columns": null,
            "margin": null,
            "display": null,
            "left": null
          }
        },
        "8c9ed6ac0d314ca282f570074de0d735": {
          "model_module": "@jupyter-widgets/output",
          "model_name": "OutputModel",
          "state": {
            "_view_name": "OutputView",
            "msg_id": "",
            "_dom_classes": [],
            "_model_name": "OutputModel",
            "outputs": [
              {
                "output_type": "display_data",
                "metadata": {
                  "tags": []
                },
                "text/html": "\n    <div>\n        <style>\n            /* Turns off some styling */\n            progress {\n                /* gets rid of default border in Firefox and Opera. */\n                border: none;\n                /* Needs to be in here for Safari polyfill so background images work as expected. */\n                background-size: auto;\n            }\n            .progress-bar-interrupted, .progress-bar-interrupted::-webkit-progress-bar {\n                background: #F44336;\n            }\n        </style>\n      <progress value='0' class='' max='1', style='width:300px; height:20px; vertical-align: middle;'></progress>\n      \n    </div>\n    \n",
                "text/plain": "<IPython.core.display.HTML object>",
                "display_id": "061b68dbd75d4a4d11a148037f8d3dfb"
              },
              {
                "output_type": "display_data",
                "metadata": {
                  "tags": []
                },
                "text/html": "\n    <div>\n        <style>\n            /* Turns off some styling */\n            progress {\n                /* gets rid of default border in Firefox and Opera. */\n                border: none;\n                /* Needs to be in here for Safari polyfill so background images work as expected. */\n                background-size: auto;\n            }\n            .progress-bar-interrupted, .progress-bar-interrupted::-webkit-progress-bar {\n                background: #F44336;\n            }\n        </style>\n      <progress value='0' class='' max='1', style='width:300px; height:20px; vertical-align: middle;'></progress>\n      0.00% [0/1 00:00<00:00]\n    </div>\n    \n\n\n    <div>\n        <style>\n            /* Turns off some styling */\n            progress {\n                /* gets rid of default border in Firefox and Opera. */\n                border: none;\n                /* Needs to be in here for Safari polyfill so background images work as expected. */\n                background-size: auto;\n            }\n            .progress-bar-interrupted, .progress-bar-interrupted::-webkit-progress-bar {\n                background: #F44336;\n            }\n        </style>\n      <progress value='0' class='' max='1', style='width:300px; height:20px; vertical-align: middle;'></progress>\n      0.00% [0/1 00:00<00:00]\n    </div>\n    ",
                "text/plain": "<IPython.core.display.HTML object>",
                "display_id": "061b68dbd75d4a4d11a148037f8d3dfb"
              },
              {
                "output_type": "display_data",
                "metadata": {
                  "tags": []
                },
                "text/html": "\n    <div>\n        <style>\n            /* Turns off some styling */\n            progress {\n                /* gets rid of default border in Firefox and Opera. */\n                border: none;\n                /* Needs to be in here for Safari polyfill so background images work as expected. */\n                background-size: auto;\n            }\n            .progress-bar-interrupted, .progress-bar-interrupted::-webkit-progress-bar {\n                background: #F44336;\n            }\n        </style>\n      <progress value='0' class='' max='1', style='width:300px; height:20px; vertical-align: middle;'></progress>\n      0.00% [0/1 00:00<00:00]\n    </div>\n    \n\n\n    <div>\n        <style>\n            /* Turns off some styling */\n            progress {\n                /* gets rid of default border in Firefox and Opera. */\n                border: none;\n                /* Needs to be in here for Safari polyfill so background images work as expected. */\n                background-size: auto;\n            }\n            .progress-bar-interrupted, .progress-bar-interrupted::-webkit-progress-bar {\n                background: #F44336;\n            }\n        </style>\n      <progress value='1' class='' max='1', style='width:300px; height:20px; vertical-align: middle;'></progress>\n      100.00% [1/1 00:00<00:00]\n    </div>\n    ",
                "text/plain": "<IPython.core.display.HTML object>",
                "display_id": "061b68dbd75d4a4d11a148037f8d3dfb"
              },
              {
                "output_type": "display_data",
                "metadata": {
                  "tags": []
                },
                "text/html": "",
                "text/plain": "<IPython.core.display.HTML object>",
                "display_id": "061b68dbd75d4a4d11a148037f8d3dfb"
              },
              {
                "output_type": "stream",
                "metadata": {
                  "tags": []
                },
                "text": "False\n",
                "stream": "stdout"
              }
            ],
            "_view_module": "@jupyter-widgets/output",
            "_model_module_version": "1.0.0",
            "_view_count": null,
            "_view_module_version": "1.0.0",
            "layout": "IPY_MODEL_f34b437a08a0402980b5dbd6a1d3a8c9",
            "_model_module": "@jupyter-widgets/output"
          }
        }
      }
    }
  },
  "cells": [
    {
      "cell_type": "markdown",
      "metadata": {
        "id": "view-in-github",
        "colab_type": "text"
      },
      "source": [
        "<a href=\"https://colab.research.google.com/github/Yash0330/Political-Fake-News/blob/master/Political_Fake_News.ipynb\" target=\"_parent\"><img src=\"https://colab.research.google.com/assets/colab-badge.svg\" alt=\"Open In Colab\"/></a>"
      ]
    },
    {
      "cell_type": "code",
      "metadata": {
        "id": "hsoMvQHMUudq",
        "colab_type": "code",
        "outputId": "8cac018a-95d4-494b-a6f4-49f93581b2f9",
        "colab": {
          "base_uri": "https://localhost:8080/",
          "height": 101
        }
      },
      "source": [
        "%tensorflow_version 2.0"
      ],
      "execution_count": 0,
      "outputs": [
        {
          "output_type": "stream",
          "text": [
            "`%tensorflow_version` only switches the major version: 1.x or 2.x.\n",
            "You set: `2.0`. This will be interpreted as: `2.x`.\n",
            "\n",
            "\n",
            "TensorFlow 2.x selected.\n"
          ],
          "name": "stdout"
        }
      ]
    },
    {
      "cell_type": "code",
      "metadata": {
        "id": "ggYnucEeU-2I",
        "colab_type": "code",
        "outputId": "46514504-2519-4feb-b89d-bc82909b69a9",
        "colab": {
          "base_uri": "https://localhost:8080/",
          "height": 34
        }
      },
      "source": [
        "import tensorflow as tf\n",
        "print(tf.__version__)"
      ],
      "execution_count": 0,
      "outputs": [
        {
          "output_type": "stream",
          "text": [
            "2.1.0\n"
          ],
          "name": "stdout"
        }
      ]
    },
    {
      "cell_type": "code",
      "metadata": {
        "id": "4K8fpRm7VF6z",
        "colab_type": "code",
        "outputId": "8fb4ba7b-d823-419b-c0c7-00fac02965bb",
        "colab": {
          "base_uri": "https://localhost:8080/",
          "height": 504
        }
      },
      "source": [
        "!pip3 install -q ktrain"
      ],
      "execution_count": 0,
      "outputs": [
        {
          "output_type": "stream",
          "text": [
            "\u001b[K     |████████████████████████████████| 25.2MB 41.0MB/s \n",
            "\u001b[K     |████████████████████████████████| 6.7MB 51.3MB/s \n",
            "\u001b[K     |████████████████████████████████| 10.1MB 44.4MB/s \n",
            "\u001b[K     |████████████████████████████████| 983kB 59.7MB/s \n",
            "\u001b[K     |████████████████████████████████| 245kB 42.4MB/s \n",
            "\u001b[K     |████████████████████████████████| 1.8MB 62.3MB/s \n",
            "\u001b[K     |████████████████████████████████| 501kB 57.7MB/s \n",
            "\u001b[K     |████████████████████████████████| 3.7MB 56.2MB/s \n",
            "\u001b[K     |████████████████████████████████| 1.0MB 51.1MB/s \n",
            "\u001b[K     |████████████████████████████████| 870kB 54.6MB/s \n",
            "\u001b[?25h  Building wheel for ktrain (setup.py) ... \u001b[?25l\u001b[?25hdone\n",
            "  Building wheel for keras-bert (setup.py) ... \u001b[?25l\u001b[?25hdone\n",
            "  Building wheel for langdetect (setup.py) ... \u001b[?25l\u001b[?25hdone\n",
            "  Building wheel for networkx (setup.py) ... \u001b[?25l\u001b[?25hdone\n",
            "  Building wheel for seqeval (setup.py) ... \u001b[?25l\u001b[?25hdone\n",
            "  Building wheel for syntok (setup.py) ... \u001b[?25l\u001b[?25hdone\n",
            "  Building wheel for keras-transformer (setup.py) ... \u001b[?25l\u001b[?25hdone\n",
            "  Building wheel for sacremoses (setup.py) ... \u001b[?25l\u001b[?25hdone\n",
            "  Building wheel for keras-pos-embd (setup.py) ... \u001b[?25l\u001b[?25hdone\n",
            "  Building wheel for keras-multi-head (setup.py) ... \u001b[?25l\u001b[?25hdone\n",
            "  Building wheel for keras-layer-normalization (setup.py) ... \u001b[?25l\u001b[?25hdone\n",
            "  Building wheel for keras-position-wise-feed-forward (setup.py) ... \u001b[?25l\u001b[?25hdone\n",
            "  Building wheel for keras-embed-sim (setup.py) ... \u001b[?25l\u001b[?25hdone\n",
            "  Building wheel for keras-self-attention (setup.py) ... \u001b[?25l\u001b[?25hdone\n",
            "\u001b[31mERROR: google-colab 1.0.0 has requirement google-auth~=1.7.2, but you'll have google-auth 1.11.2 which is incompatible.\u001b[0m\n",
            "\u001b[31mERROR: google-colab 1.0.0 has requirement pandas~=0.25.0; python_version >= \"3.0\", but you'll have pandas 1.0.1 which is incompatible.\u001b[0m\n",
            "\u001b[31mERROR: google-colab 1.0.0 has requirement requests~=2.21.0, but you'll have requests 2.23.0 which is incompatible.\u001b[0m\n",
            "\u001b[31mERROR: google-colab 1.0.0 has requirement six~=1.12.0, but you'll have six 1.14.0 which is incompatible.\u001b[0m\n",
            "\u001b[31mERROR: albumentations 0.1.12 has requirement imgaug<0.2.7,>=0.2.5, but you'll have imgaug 0.2.9 which is incompatible.\u001b[0m\n"
          ],
          "name": "stdout"
        }
      ]
    },
    {
      "cell_type": "code",
      "metadata": {
        "id": "0PJZgoOIVMVF",
        "colab_type": "code",
        "outputId": "a5271a09-0508-4abd-f907-9cb15432dc6a",
        "colab": {
          "base_uri": "https://localhost:8080/",
          "height": 34
        }
      },
      "source": [
        "from google.colab import drive\n",
        "drive.mount('/content/drive')"
      ],
      "execution_count": 0,
      "outputs": [
        {
          "output_type": "stream",
          "text": [
            "Drive already mounted at /content/drive; to attempt to forcibly remount, call drive.mount(\"/content/drive\", force_remount=True).\n"
          ],
          "name": "stdout"
        }
      ]
    },
    {
      "cell_type": "code",
      "metadata": {
        "id": "7edqaEQyVMYk",
        "colab_type": "code",
        "outputId": "f9dfb2b8-28f6-49d6-8c7e-563e7f510169",
        "colab": {
          "base_uri": "https://localhost:8080/",
          "height": 34
        }
      },
      "source": [
        "%cd 'drive/My Drive/bert1'"
      ],
      "execution_count": 0,
      "outputs": [
        {
          "output_type": "stream",
          "text": [
            "/content/drive/My Drive/bert1\n"
          ],
          "name": "stdout"
        }
      ]
    },
    {
      "cell_type": "code",
      "metadata": {
        "id": "Hc3h23ojWCZf",
        "colab_type": "code",
        "colab": {}
      },
      "source": [
        "import pandas as pd\n",
        "from tqdm import tqdm_notebook"
      ],
      "execution_count": 0,
      "outputs": []
    },
    {
      "cell_type": "code",
      "metadata": {
        "id": "hkJs4VCdVF_o",
        "colab_type": "code",
        "colab": {}
      },
      "source": [
        "train = pd.read_csv('t.csv')"
      ],
      "execution_count": 0,
      "outputs": []
    },
    {
      "cell_type": "code",
      "metadata": {
        "id": "6LWV344rVGCB",
        "colab_type": "code",
        "outputId": "007e8b6e-77b5-4bfe-851f-88872eeeccb3",
        "colab": {
          "base_uri": "https://localhost:8080/",
          "height": 402
        }
      },
      "source": [
        "train"
      ],
      "execution_count": 0,
      "outputs": [
        {
          "output_type": "execute_result",
          "data": {
            "text/html": [
              "<div>\n",
              "<style scoped>\n",
              "    .dataframe tbody tr th:only-of-type {\n",
              "        vertical-align: middle;\n",
              "    }\n",
              "\n",
              "    .dataframe tbody tr th {\n",
              "        vertical-align: top;\n",
              "    }\n",
              "\n",
              "    .dataframe thead th {\n",
              "        text-align: right;\n",
              "    }\n",
              "</style>\n",
              "<table border=\"1\" class=\"dataframe\">\n",
              "  <thead>\n",
              "    <tr style=\"text-align: right;\">\n",
              "      <th></th>\n",
              "      <th>Unnamed: 0</th>\n",
              "      <th>label</th>\n",
              "      <th>statement</th>\n",
              "      <th>description</th>\n",
              "      <th>concatenate</th>\n",
              "    </tr>\n",
              "  </thead>\n",
              "  <tbody>\n",
              "    <tr>\n",
              "      <th>0</th>\n",
              "      <td>0</td>\n",
              "      <td>0</td>\n",
              "      <td>Says James Clapper \"and virtually everyone els...</td>\n",
              "      <td>Trump said, \"When James Clapper himself, and v...</td>\n",
              "      <td>Says James Clapper \"and virtually everyone els...</td>\n",
              "    </tr>\n",
              "    <tr>\n",
              "      <th>1</th>\n",
              "      <td>1</td>\n",
              "      <td>0</td>\n",
              "      <td>Says Barack Obama complained that Democrats co...</td>\n",
              "      <td>Great America Alliance said that Obama complai...</td>\n",
              "      <td>Says Barack Obama complained that Democrats co...</td>\n",
              "    </tr>\n",
              "    <tr>\n",
              "      <th>2</th>\n",
              "      <td>2</td>\n",
              "      <td>0</td>\n",
              "      <td>\"The new Rasmussen Poll, one of the most accur...</td>\n",
              "      <td>Trump said, \"The new Rasmussen Poll, one of th...</td>\n",
              "      <td>\"The new Rasmussen Poll, one of the most accur...</td>\n",
              "    </tr>\n",
              "    <tr>\n",
              "      <th>3</th>\n",
              "      <td>3</td>\n",
              "      <td>1</td>\n",
              "      <td>\"The Kingdom of Saudi Arabia, whose government...</td>\n",
              "      <td>Racine said the Saudi government has already s...</td>\n",
              "      <td>\"The Kingdom of Saudi Arabia, whose government...</td>\n",
              "    </tr>\n",
              "    <tr>\n",
              "      <th>4</th>\n",
              "      <td>4</td>\n",
              "      <td>1</td>\n",
              "      <td>\"There are currently 6 million jobs available ...</td>\n",
              "      <td>Trump said, \"There are currently 6 million job...</td>\n",
              "      <td>\"There are currently 6 million jobs available ...</td>\n",
              "    </tr>\n",
              "    <tr>\n",
              "      <th>...</th>\n",
              "      <td>...</td>\n",
              "      <td>...</td>\n",
              "      <td>...</td>\n",
              "      <td>...</td>\n",
              "      <td>...</td>\n",
              "    </tr>\n",
              "    <tr>\n",
              "      <th>23133</th>\n",
              "      <td>23133</td>\n",
              "      <td>1</td>\n",
              "      <td>Says his budget provides the highest state fun...</td>\n",
              "      <td>LeMieux didn't compare Rubio and Obama on an i...</td>\n",
              "      <td>Says his budget provides the highest state fun...</td>\n",
              "    </tr>\n",
              "    <tr>\n",
              "      <th>23134</th>\n",
              "      <td>23134</td>\n",
              "      <td>0</td>\n",
              "      <td>Ive been here almost every day.</td>\n",
              "      <td>After making his pledge, Obama said the budget...</td>\n",
              "      <td>Ive been here almost every day.&lt;&gt;After making ...</td>\n",
              "    </tr>\n",
              "    <tr>\n",
              "      <th>23135</th>\n",
              "      <td>23135</td>\n",
              "      <td>0</td>\n",
              "      <td>In the early 1980s, Sen. Edward Kennedy secret...</td>\n",
              "      <td>Former President Clinton said government got t...</td>\n",
              "      <td>In the early 1980s, Sen. Edward Kennedy secret...</td>\n",
              "    </tr>\n",
              "    <tr>\n",
              "      <th>23136</th>\n",
              "      <td>23136</td>\n",
              "      <td>0</td>\n",
              "      <td>Says an EPA permit languished under Strickland...</td>\n",
              "      <td>Points of Light has a unique mission carved ou...</td>\n",
              "      <td>Says an EPA permit languished under Strickland...</td>\n",
              "    </tr>\n",
              "    <tr>\n",
              "      <th>23137</th>\n",
              "      <td>23137</td>\n",
              "      <td>0</td>\n",
              "      <td>Says the governor is going around the state ta...</td>\n",
              "      <td>In reality, the Affordable Care Act calls for ...</td>\n",
              "      <td>Says the governor is going around the state ta...</td>\n",
              "    </tr>\n",
              "  </tbody>\n",
              "</table>\n",
              "<p>23138 rows × 5 columns</p>\n",
              "</div>"
            ],
            "text/plain": [
              "       Unnamed: 0  ...                                        concatenate\n",
              "0               0  ...  Says James Clapper \"and virtually everyone els...\n",
              "1               1  ...  Says Barack Obama complained that Democrats co...\n",
              "2               2  ...  \"The new Rasmussen Poll, one of the most accur...\n",
              "3               3  ...  \"The Kingdom of Saudi Arabia, whose government...\n",
              "4               4  ...  \"There are currently 6 million jobs available ...\n",
              "...           ...  ...                                                ...\n",
              "23133       23133  ...  Says his budget provides the highest state fun...\n",
              "23134       23134  ...  Ive been here almost every day.<>After making ...\n",
              "23135       23135  ...  In the early 1980s, Sen. Edward Kennedy secret...\n",
              "23136       23136  ...  Says an EPA permit languished under Strickland...\n",
              "23137       23137  ...  Says the governor is going around the state ta...\n",
              "\n",
              "[23138 rows x 5 columns]"
            ]
          },
          "metadata": {
            "tags": []
          },
          "execution_count": 10
        }
      ]
    },
    {
      "cell_type": "code",
      "metadata": {
        "id": "UDAGlgIupu-m",
        "colab_type": "code",
        "colab": {}
      },
      "source": [
        "from sklearn.model_selection import train_test_split"
      ],
      "execution_count": 0,
      "outputs": []
    },
    {
      "cell_type": "code",
      "metadata": {
        "id": "_tdlexj-pvBM",
        "colab_type": "code",
        "colab": {}
      },
      "source": [
        "X_train, X_test = train_test_split(train, test_size=0.18, random_state=42)"
      ],
      "execution_count": 0,
      "outputs": []
    },
    {
      "cell_type": "code",
      "metadata": {
        "id": "oxTteDvgpvDk",
        "colab_type": "code",
        "colab": {}
      },
      "source": [
        "X_val, X_test = train_test_split(X_test, test_size=0.5, random_state=42)"
      ],
      "execution_count": 0,
      "outputs": []
    },
    {
      "cell_type": "code",
      "metadata": {
        "id": "3MPTJfK0qJ9y",
        "colab_type": "code",
        "outputId": "15d260dc-92a2-4cbc-89f9-1628353fb174",
        "colab": {
          "base_uri": "https://localhost:8080/",
          "height": 34
        }
      },
      "source": [
        "print('train size:',X_train.shape,',validation size:',X_val.shape,',test size:',X_test.shape)"
      ],
      "execution_count": 0,
      "outputs": [
        {
          "output_type": "stream",
          "text": [
            "train size: (18973, 5) ,validation size: (2082, 5) ,test size: (2083, 5)\n"
          ],
          "name": "stdout"
        }
      ]
    },
    {
      "cell_type": "code",
      "metadata": {
        "id": "1tQFEi7buFRX",
        "colab_type": "code",
        "colab": {}
      },
      "source": [
        "x_train = X_train[\"concatenate\"].tolist()\n",
        "y_train = X_train[\"label\"].tolist()\n",
        "x_val = X_val[\"concatenate\"].tolist()\n",
        "y_val = X_val[\"label\"].tolist()\n",
        "x_test = X_test[\"concatenate\"].tolist()\n",
        "y_test = X_test[\"label\"].tolist()"
      ],
      "execution_count": 0,
      "outputs": []
    },
    {
      "cell_type": "code",
      "metadata": {
        "id": "myhob_olv3TC",
        "colab_type": "code",
        "outputId": "46ea526d-0c0d-4297-b215-f8bb1cd04593",
        "colab": {
          "base_uri": "https://localhost:8080/",
          "height": 34
        }
      },
      "source": [
        "import ktrain\n",
        "from ktrain import text\n",
        "MODEL_NAME = 'bert-large-uncased'"
      ],
      "execution_count": 0,
      "outputs": [
        {
          "output_type": "stream",
          "text": [
            "using Keras version: 2.2.4-tf\n"
          ],
          "name": "stdout"
        }
      ]
    },
    {
      "cell_type": "code",
      "metadata": {
        "id": "P-jER1ZMwen3",
        "colab_type": "code",
        "outputId": "2338983f-16e5-41d5-c675-9b7f22136333",
        "colab": {
          "base_uri": "https://localhost:8080/",
          "height": 50
        }
      },
      "source": [
        "t = text.Transformer(MODEL_NAME, maxlen=500, classes=[0,1])"
      ],
      "execution_count": 0,
      "outputs": [
        {
          "output_type": "stream",
          "text": [
            "/usr/local/lib/python3.6/dist-packages/ktrain/text/preprocessor.py:324: UserWarning: The class_names argument is replacing the classes argument. Please update your code.\n",
            "  warnings.warn('The class_names argument is replacing the classes argument. Please update your code.')\n"
          ],
          "name": "stderr"
        }
      ]
    },
    {
      "cell_type": "code",
      "metadata": {
        "id": "22S2I7Irwesj",
        "colab_type": "code",
        "outputId": "4ef47914-56bf-4554-92f0-4d640cb0f40c",
        "colab": {
          "base_uri": "https://localhost:8080/",
          "height": 118
        }
      },
      "source": [
        "trn = t.preprocess_train(x_train, y_train)"
      ],
      "execution_count": 0,
      "outputs": [
        {
          "output_type": "stream",
          "text": [
            "preprocessing train...\n",
            "language: en\n",
            "train sequence lengths:\n",
            "\tmean : 94\n",
            "\t95percentile : 161\n",
            "\t99percentile : 205\n"
          ],
          "name": "stdout"
        },
        {
          "output_type": "display_data",
          "data": {
            "text/html": [
              ""
            ],
            "text/plain": [
              "<IPython.core.display.HTML object>"
            ]
          },
          "metadata": {
            "tags": []
          }
        }
      ]
    },
    {
      "cell_type": "code",
      "metadata": {
        "id": "uesH6vwLwlFp",
        "colab_type": "code",
        "outputId": "c554892e-b41a-497e-a931-15eafcd01e6b",
        "colab": {
          "base_uri": "https://localhost:8080/",
          "height": 118
        }
      },
      "source": [
        "val = t.preprocess_train(x_val, y_val)"
      ],
      "execution_count": 0,
      "outputs": [
        {
          "output_type": "stream",
          "text": [
            "preprocessing train...\n",
            "language: en\n",
            "train sequence lengths:\n",
            "\tmean : 94\n",
            "\t95percentile : 161\n",
            "\t99percentile : 200\n"
          ],
          "name": "stdout"
        },
        {
          "output_type": "display_data",
          "data": {
            "text/html": [
              ""
            ],
            "text/plain": [
              "<IPython.core.display.HTML object>"
            ]
          },
          "metadata": {
            "tags": []
          }
        }
      ]
    },
    {
      "cell_type": "code",
      "metadata": {
        "id": "AQ5oKMrlwewD",
        "colab_type": "code",
        "colab": {}
      },
      "source": [
        "model = t.get_classifier()\n",
        "learner = ktrain.get_learner(model, train_data=trn, val_data=val, batch_size=8)"
      ],
      "execution_count": 0,
      "outputs": []
    },
    {
      "cell_type": "code",
      "metadata": {
        "id": "5HHDGMVfVF9U",
        "colab_type": "code",
        "outputId": "a8f14303-d552-4691-e4b5-5c8f7c83cd20",
        "colab": {
          "base_uri": "https://localhost:8080/",
          "height": 202
        }
      },
      "source": [
        "learner.fit_onecycle(1e-5, 3)"
      ],
      "execution_count": 0,
      "outputs": [
        {
          "output_type": "stream",
          "text": [
            "\n",
            "\n",
            "begin training using onecycle policy with max lr of 1e-05...\n",
            "Train for 2372 steps, validate for 261 steps\n",
            "Epoch 1/3\n",
            "2372/2372 [==============================] - 1161s 490ms/step - loss: 0.6256 - accuracy: 0.6351 - val_loss: 0.5080 - val_accuracy: 0.7344\n",
            "Epoch 2/3\n",
            "2372/2372 [==============================] - 1155s 487ms/step - loss: 0.4375 - accuracy: 0.7798 - val_loss: 0.3676 - val_accuracy: 0.8074\n",
            "Epoch 3/3\n",
            "2372/2372 [==============================] - 1154s 487ms/step - loss: 0.3027 - accuracy: 0.8523 - val_loss: 0.3575 - val_accuracy: 0.8333\n"
          ],
          "name": "stdout"
        },
        {
          "output_type": "execute_result",
          "data": {
            "text/plain": [
              "<tensorflow.python.keras.callbacks.History at 0x7fc1516945f8>"
            ]
          },
          "metadata": {
            "tags": []
          },
          "execution_count": 42
        }
      ]
    },
    {
      "cell_type": "code",
      "metadata": {
        "id": "SyqavPPupnI6",
        "colab_type": "code",
        "colab": {}
      },
      "source": [
        "predictor = ktrain.get_predictor(learner.model, preproc=t)"
      ],
      "execution_count": 0,
      "outputs": []
    },
    {
      "cell_type": "code",
      "metadata": {
        "id": "LePWCnez_qOV",
        "colab_type": "code",
        "outputId": "0d72d751-5397-4507-88ff-d859a3a64521",
        "colab": {
          "base_uri": "https://localhost:8080/",
          "height": 54
        }
      },
      "source": [
        "statement = 'Says Barack Obama complained that Democrats continue to ignore blacks except at election time.'\n",
        "description = 'Great America Alliance said that Obama complained that Democrats continue to ignore blacks except at election time. \\\n",
        "              Obama did say the words used in the ad, but they weren’t his.He was quoting a Chicago barber talking about the days before African-Americans in Chicago helped elect the city’s first black mayor. \\\n",
        "              The full text from Obama’s book shows that he was arguing that voting can make a difference. Nothing in the section suggests that he thinks Democrats today only pay attention to blacks at election time.'\n",
        "test = statement + '<>' + description\n",
        "print(test)    "
      ],
      "execution_count": 0,
      "outputs": [
        {
          "output_type": "stream",
          "text": [
            "Says Barack Obama complained that Democrats continue to ignore blacks except at election time.<>Great America Alliance said that Obama complained that Democrats continue to ignore blacks except at election time.               Obama did say the words used in the ad, but they weren’t his.He was quoting a Chicago barber talking about the days before African-Americans in Chicago helped elect the city’s first black mayor.               The full text from Obama’s book shows that he was arguing that voting can make a difference. Nothing in the section suggests that he thinks Democrats today only pay attention to blacks at election time.\n"
          ],
          "name": "stdout"
        }
      ]
    },
    {
      "cell_type": "code",
      "metadata": {
        "id": "9y-BhMA-pnNZ",
        "colab_type": "code",
        "outputId": "769ed30c-5ce6-4b63-d6c2-a86d245ca7ef",
        "colab": {
          "base_uri": "https://localhost:8080/",
          "height": 34
        }
      },
      "source": [
        "if predictor.predict(test) is 0: \n",
        "  print('False')  # indeed it is false\n",
        "else:\n",
        "  print('True')"
      ],
      "execution_count": 0,
      "outputs": [
        {
          "output_type": "display_data",
          "data": {
            "text/html": [
              ""
            ],
            "text/plain": [
              "<IPython.core.display.HTML object>"
            ]
          },
          "metadata": {
            "tags": []
          }
        },
        {
          "output_type": "stream",
          "text": [
            "False\n"
          ],
          "name": "stdout"
        }
      ]
    },
    {
      "cell_type": "code",
      "metadata": {
        "id": "J10A14d8pnLU",
        "colab_type": "code",
        "outputId": "aed6fd87-6001-4cbc-8bf5-61cdd83aaf99",
        "colab": {
          "base_uri": "https://localhost:8080/",
          "height": 34
        }
      },
      "source": [
        "predictor.predict_proba(test)"
      ],
      "execution_count": 0,
      "outputs": [
        {
          "output_type": "display_data",
          "data": {
            "text/html": [
              ""
            ],
            "text/plain": [
              "<IPython.core.display.HTML object>"
            ]
          },
          "metadata": {
            "tags": []
          }
        },
        {
          "output_type": "execute_result",
          "data": {
            "text/plain": [
              "array([0.99607974, 0.00392029], dtype=float32)"
            ]
          },
          "metadata": {
            "tags": []
          },
          "execution_count": 51
        }
      ]
    },
    {
      "cell_type": "code",
      "metadata": {
        "id": "4IHAQOMeVGEV",
        "colab_type": "code",
        "outputId": "0a948fd5-edfd-4200-8222-3914730e1bf8",
        "colab": {
          "base_uri": "https://localhost:8080/",
          "height": 34
        }
      },
      "source": [
        "predictor.get_classes()"
      ],
      "execution_count": 0,
      "outputs": [
        {
          "output_type": "execute_result",
          "data": {
            "text/plain": [
              "[0, 1]"
            ]
          },
          "metadata": {
            "tags": []
          },
          "execution_count": 52
        }
      ]
    },
    {
      "cell_type": "code",
      "metadata": {
        "id": "ueN1jGELzLBW",
        "colab_type": "code",
        "outputId": "7f6a7cc8-aa9a-4220-bcc4-c4ac57433c07",
        "colab": {
          "base_uri": "https://localhost:8080/",
          "height": 17
        }
      },
      "source": [
        "pred = predictor.predict(x_test)"
      ],
      "execution_count": 0,
      "outputs": [
        {
          "output_type": "display_data",
          "data": {
            "text/html": [
              ""
            ],
            "text/plain": [
              "<IPython.core.display.HTML object>"
            ]
          },
          "metadata": {
            "tags": []
          }
        }
      ]
    },
    {
      "cell_type": "code",
      "metadata": {
        "id": "eHcna751DSp-",
        "colab_type": "code",
        "outputId": "bf154f19-f4b3-408f-c5d0-6946a2766471",
        "colab": {
          "base_uri": "https://localhost:8080/",
          "height": 34
        }
      },
      "source": [
        "j = 0\n",
        "s = 0\n",
        "for i in pred:\n",
        "  if(i==y_test[j]):\n",
        "    s+=1\n",
        "  j+=1\n",
        "print('The Accuracy of the test set is',s/2083*100)"
      ],
      "execution_count": 0,
      "outputs": [
        {
          "output_type": "stream",
          "text": [
            "The Accuracy of the test set is 80.31685069611137\n"
          ],
          "name": "stdout"
        }
      ]
    },
    {
      "cell_type": "code",
      "metadata": {
        "id": "7pJ8JlzWxU1i",
        "colab_type": "code",
        "colab": {}
      },
      "source": [
        "predictor.save('my_distilbert_predictor')"
      ],
      "execution_count": 0,
      "outputs": []
    },
    {
      "cell_type": "code",
      "metadata": {
        "id": "mtekUrEVxU4G",
        "colab_type": "code",
        "colab": {}
      },
      "source": [
        "reloaded_predictor = ktrain.load_predictor('my_distilbert_predictor')"
      ],
      "execution_count": 0,
      "outputs": []
    },
    {
      "cell_type": "markdown",
      "metadata": {
        "id": "9lXeY1cSHPMM",
        "colab_type": "text"
      },
      "source": [
        "### **Prediction**"
      ]
    },
    {
      "cell_type": "code",
      "metadata": {
        "id": "ipBEpxSpxU6G",
        "colab_type": "code",
        "cellView": "form",
        "outputId": "b9fe95f3-d715-4f8d-b620-052d39b7fe06",
        "colab": {
          "base_uri": "https://localhost:8080/",
          "height": 166,
          "referenced_widgets": [
            "8fb97266fa8b4687a59caf783d5336ac",
            "5727d2d4af66401eaff4d6d2673eedab",
            "2e86d4c2627c46d0ba9056cfc6b22f0c",
            "8c9ed6ac0d314ca282f570074de0d735"
          ]
        }
      },
      "source": [
        "#@title Prediction\n",
        "statement = 'some person in campus has reported symptom of COVID 19 virus. ' #@param {type:\"string\"}\n",
        "description = 'So far no person (student / faculty member / staff) in the campus has reported any symptom of COVID 19 virus. ' #@param {type:\"string\"}\n",
        "test = statement + '<>' + description\n",
        "import ipywidgets as widgets\n",
        "from IPython.display import display\n",
        "button = widgets.Button(description=\"Enter\")\n",
        "output = widgets.Output()\n",
        "\n",
        "def on_button_clicked(b):\n",
        "  # Display the message within the output widget.\n",
        "  with output:\n",
        "    if reloaded_predictor.predict(test) is 0: \n",
        "      print('False')  \n",
        "    else:\n",
        "      print('True')\n",
        "\n",
        "button.on_click(on_button_clicked)\n",
        "display(button, output)\n"
      ],
      "execution_count": 0,
      "outputs": [
        {
          "output_type": "display_data",
          "data": {
            "application/vnd.jupyter.widget-view+json": {
              "model_id": "8fb97266fa8b4687a59caf783d5336ac",
              "version_minor": 0,
              "version_major": 2
            },
            "text/plain": [
              "Button(description='Enter', style=ButtonStyle())"
            ]
          },
          "metadata": {
            "tags": []
          }
        },
        {
          "output_type": "display_data",
          "data": {
            "application/vnd.jupyter.widget-view+json": {
              "model_id": "8c9ed6ac0d314ca282f570074de0d735",
              "version_minor": 0,
              "version_major": 2
            },
            "text/plain": [
              "Output()"
            ]
          },
          "metadata": {
            "tags": []
          }
        }
      ]
    },
    {
      "cell_type": "code",
      "metadata": {
        "id": "nO2nH1-LxU8d",
        "colab_type": "code",
        "colab": {}
      },
      "source": [
        ""
      ],
      "execution_count": 0,
      "outputs": []
    }
  ]
}